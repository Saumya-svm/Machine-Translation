{
  "cells": [
    {
      "cell_type": "code",
      "execution_count": 3,
      "metadata": {
        "colab": {
          "base_uri": "https://localhost:8080/"
        },
        "id": "iilCsyZm8x0t",
        "outputId": "256a1985-8083-413d-9e10-15ab8bd09f56"
      },
      "outputs": [
        {
          "name": "stdout",
          "output_type": "stream",
          "text": [
            "Looking in indexes: https://pypi.org/simple, https://us-python.pkg.dev/colab-wheels/public/simple/\n",
            "Collecting keras-preprocessing\n",
            "  Downloading Keras_Preprocessing-1.1.2-py2.py3-none-any.whl (42 kB)\n",
            "\u001b[2K     \u001b[90m━━━━━━━━━━━━━━━━━━━━━━━━━━━━━━━━━━━━━━━━\u001b[0m \u001b[32m42.6/42.6 KB\u001b[0m \u001b[31m5.7 MB/s\u001b[0m eta \u001b[36m0:00:00\u001b[0m\n",
            "\u001b[?25hRequirement already satisfied: six>=1.9.0 in /usr/local/lib/python3.8/dist-packages (from keras-preprocessing) (1.15.0)\n",
            "Requirement already satisfied: numpy>=1.9.1 in /usr/local/lib/python3.8/dist-packages (from keras-preprocessing) (1.22.4)\n",
            "Installing collected packages: keras-preprocessing\n",
            "Successfully installed keras-preprocessing-1.1.2\n"
          ]
        }
      ],
      "source": [
        "!pip install keras-preprocessing"
      ]
    },
    {
      "cell_type": "code",
      "execution_count": 4,
      "metadata": {
        "colab": {
          "base_uri": "https://localhost:8080/"
        },
        "id": "qxYBi-0lCV09",
        "outputId": "4dffcba4-8683-4dd3-e3cd-5477ec2452cd"
      },
      "outputs": [
        {
          "name": "stdout",
          "output_type": "stream",
          "text": [
            "Looking in indexes: https://pypi.org/simple, https://us-python.pkg.dev/colab-wheels/public/simple/\n",
            "Collecting tensorflow-text==2.11.0\n",
            "  Downloading tensorflow_text-2.11.0-cp38-cp38-manylinux_2_17_x86_64.manylinux2014_x86_64.whl (5.8 MB)\n",
            "\u001b[2K     \u001b[90m━━━━━━━━━━━━━━━━━━━━━━━━━━━━━━━━━━━━━━━━\u001b[0m \u001b[32m5.8/5.8 MB\u001b[0m \u001b[31m56.7 MB/s\u001b[0m eta \u001b[36m0:00:00\u001b[0m\n",
            "\u001b[?25hRequirement already satisfied: tensorflow<2.12,>=2.11.0 in /usr/local/lib/python3.8/dist-packages (from tensorflow-text==2.11.0) (2.11.0)\n",
            "Requirement already satisfied: tensorflow-hub>=0.8.0 in /usr/local/lib/python3.8/dist-packages (from tensorflow-text==2.11.0) (0.12.0)\n",
            "Requirement already satisfied: tensorflow-estimator<2.12,>=2.11.0 in /usr/local/lib/python3.8/dist-packages (from tensorflow<2.12,>=2.11.0->tensorflow-text==2.11.0) (2.11.0)\n",
            "Requirement already satisfied: h5py>=2.9.0 in /usr/local/lib/python3.8/dist-packages (from tensorflow<2.12,>=2.11.0->tensorflow-text==2.11.0) (3.1.0)\n",
            "Requirement already satisfied: packaging in /usr/local/lib/python3.8/dist-packages (from tensorflow<2.12,>=2.11.0->tensorflow-text==2.11.0) (23.0)\n",
            "Requirement already satisfied: google-pasta>=0.1.1 in /usr/local/lib/python3.8/dist-packages (from tensorflow<2.12,>=2.11.0->tensorflow-text==2.11.0) (0.2.0)\n",
            "Requirement already satisfied: grpcio<2.0,>=1.24.3 in /usr/local/lib/python3.8/dist-packages (from tensorflow<2.12,>=2.11.0->tensorflow-text==2.11.0) (1.51.3)\n",
            "Requirement already satisfied: termcolor>=1.1.0 in /usr/local/lib/python3.8/dist-packages (from tensorflow<2.12,>=2.11.0->tensorflow-text==2.11.0) (2.2.0)\n",
            "Requirement already satisfied: tensorflow-io-gcs-filesystem>=0.23.1 in /usr/local/lib/python3.8/dist-packages (from tensorflow<2.12,>=2.11.0->tensorflow-text==2.11.0) (0.31.0)\n",
            "Requirement already satisfied: absl-py>=1.0.0 in /usr/local/lib/python3.8/dist-packages (from tensorflow<2.12,>=2.11.0->tensorflow-text==2.11.0) (1.4.0)\n",
            "Requirement already satisfied: wrapt>=1.11.0 in /usr/local/lib/python3.8/dist-packages (from tensorflow<2.12,>=2.11.0->tensorflow-text==2.11.0) (1.15.0)\n",
            "Requirement already satisfied: protobuf<3.20,>=3.9.2 in /usr/local/lib/python3.8/dist-packages (from tensorflow<2.12,>=2.11.0->tensorflow-text==2.11.0) (3.19.6)\n",
            "Requirement already satisfied: libclang>=13.0.0 in /usr/local/lib/python3.8/dist-packages (from tensorflow<2.12,>=2.11.0->tensorflow-text==2.11.0) (15.0.6.1)\n",
            "Requirement already satisfied: setuptools in /usr/local/lib/python3.8/dist-packages (from tensorflow<2.12,>=2.11.0->tensorflow-text==2.11.0) (57.4.0)\n",
            "Requirement already satisfied: gast<=0.4.0,>=0.2.1 in /usr/local/lib/python3.8/dist-packages (from tensorflow<2.12,>=2.11.0->tensorflow-text==2.11.0) (0.4.0)\n",
            "Requirement already satisfied: keras<2.12,>=2.11.0 in /usr/local/lib/python3.8/dist-packages (from tensorflow<2.12,>=2.11.0->tensorflow-text==2.11.0) (2.11.0)\n",
            "Requirement already satisfied: flatbuffers>=2.0 in /usr/local/lib/python3.8/dist-packages (from tensorflow<2.12,>=2.11.0->tensorflow-text==2.11.0) (23.1.21)\n",
            "Requirement already satisfied: six>=1.12.0 in /usr/local/lib/python3.8/dist-packages (from tensorflow<2.12,>=2.11.0->tensorflow-text==2.11.0) (1.15.0)\n",
            "Requirement already satisfied: tensorboard<2.12,>=2.11 in /usr/local/lib/python3.8/dist-packages (from tensorflow<2.12,>=2.11.0->tensorflow-text==2.11.0) (2.11.2)\n",
            "Requirement already satisfied: numpy>=1.20 in /usr/local/lib/python3.8/dist-packages (from tensorflow<2.12,>=2.11.0->tensorflow-text==2.11.0) (1.22.4)\n",
            "Requirement already satisfied: opt-einsum>=2.3.2 in /usr/local/lib/python3.8/dist-packages (from tensorflow<2.12,>=2.11.0->tensorflow-text==2.11.0) (3.3.0)\n",
            "Requirement already satisfied: typing-extensions>=3.6.6 in /usr/local/lib/python3.8/dist-packages (from tensorflow<2.12,>=2.11.0->tensorflow-text==2.11.0) (4.5.0)\n",
            "Requirement already satisfied: astunparse>=1.6.0 in /usr/local/lib/python3.8/dist-packages (from tensorflow<2.12,>=2.11.0->tensorflow-text==2.11.0) (1.6.3)\n",
            "Requirement already satisfied: wheel<1.0,>=0.23.0 in /usr/local/lib/python3.8/dist-packages (from astunparse>=1.6.0->tensorflow<2.12,>=2.11.0->tensorflow-text==2.11.0) (0.38.4)\n",
            "Requirement already satisfied: markdown>=2.6.8 in /usr/local/lib/python3.8/dist-packages (from tensorboard<2.12,>=2.11->tensorflow<2.12,>=2.11.0->tensorflow-text==2.11.0) (3.4.1)\n",
            "Requirement already satisfied: tensorboard-plugin-wit>=1.6.0 in /usr/local/lib/python3.8/dist-packages (from tensorboard<2.12,>=2.11->tensorflow<2.12,>=2.11.0->tensorflow-text==2.11.0) (1.8.1)\n",
            "Requirement already satisfied: requests<3,>=2.21.0 in /usr/local/lib/python3.8/dist-packages (from tensorboard<2.12,>=2.11->tensorflow<2.12,>=2.11.0->tensorflow-text==2.11.0) (2.25.1)\n",
            "Requirement already satisfied: werkzeug>=1.0.1 in /usr/local/lib/python3.8/dist-packages (from tensorboard<2.12,>=2.11->tensorflow<2.12,>=2.11.0->tensorflow-text==2.11.0) (2.2.3)\n",
            "Requirement already satisfied: tensorboard-data-server<0.7.0,>=0.6.0 in /usr/local/lib/python3.8/dist-packages (from tensorboard<2.12,>=2.11->tensorflow<2.12,>=2.11.0->tensorflow-text==2.11.0) (0.6.1)\n",
            "Requirement already satisfied: google-auth<3,>=1.6.3 in /usr/local/lib/python3.8/dist-packages (from tensorboard<2.12,>=2.11->tensorflow<2.12,>=2.11.0->tensorflow-text==2.11.0) (2.16.1)\n",
            "Requirement already satisfied: google-auth-oauthlib<0.5,>=0.4.1 in /usr/local/lib/python3.8/dist-packages (from tensorboard<2.12,>=2.11->tensorflow<2.12,>=2.11.0->tensorflow-text==2.11.0) (0.4.6)\n",
            "Requirement already satisfied: rsa<5,>=3.1.4 in /usr/local/lib/python3.8/dist-packages (from google-auth<3,>=1.6.3->tensorboard<2.12,>=2.11->tensorflow<2.12,>=2.11.0->tensorflow-text==2.11.0) (4.9)\n",
            "Requirement already satisfied: pyasn1-modules>=0.2.1 in /usr/local/lib/python3.8/dist-packages (from google-auth<3,>=1.6.3->tensorboard<2.12,>=2.11->tensorflow<2.12,>=2.11.0->tensorflow-text==2.11.0) (0.2.8)\n",
            "Requirement already satisfied: cachetools<6.0,>=2.0.0 in /usr/local/lib/python3.8/dist-packages (from google-auth<3,>=1.6.3->tensorboard<2.12,>=2.11->tensorflow<2.12,>=2.11.0->tensorflow-text==2.11.0) (5.3.0)\n",
            "Requirement already satisfied: requests-oauthlib>=0.7.0 in /usr/local/lib/python3.8/dist-packages (from google-auth-oauthlib<0.5,>=0.4.1->tensorboard<2.12,>=2.11->tensorflow<2.12,>=2.11.0->tensorflow-text==2.11.0) (1.3.1)\n",
            "Requirement already satisfied: importlib-metadata>=4.4 in /usr/local/lib/python3.8/dist-packages (from markdown>=2.6.8->tensorboard<2.12,>=2.11->tensorflow<2.12,>=2.11.0->tensorflow-text==2.11.0) (6.0.0)\n",
            "Requirement already satisfied: certifi>=2017.4.17 in /usr/local/lib/python3.8/dist-packages (from requests<3,>=2.21.0->tensorboard<2.12,>=2.11->tensorflow<2.12,>=2.11.0->tensorflow-text==2.11.0) (2022.12.7)\n",
            "Requirement already satisfied: urllib3<1.27,>=1.21.1 in /usr/local/lib/python3.8/dist-packages (from requests<3,>=2.21.0->tensorboard<2.12,>=2.11->tensorflow<2.12,>=2.11.0->tensorflow-text==2.11.0) (1.26.14)\n",
            "Requirement already satisfied: chardet<5,>=3.0.2 in /usr/local/lib/python3.8/dist-packages (from requests<3,>=2.21.0->tensorboard<2.12,>=2.11->tensorflow<2.12,>=2.11.0->tensorflow-text==2.11.0) (4.0.0)\n",
            "Requirement already satisfied: idna<3,>=2.5 in /usr/local/lib/python3.8/dist-packages (from requests<3,>=2.21.0->tensorboard<2.12,>=2.11->tensorflow<2.12,>=2.11.0->tensorflow-text==2.11.0) (2.10)\n",
            "Requirement already satisfied: MarkupSafe>=2.1.1 in /usr/local/lib/python3.8/dist-packages (from werkzeug>=1.0.1->tensorboard<2.12,>=2.11->tensorflow<2.12,>=2.11.0->tensorflow-text==2.11.0) (2.1.2)\n",
            "Requirement already satisfied: zipp>=0.5 in /usr/local/lib/python3.8/dist-packages (from importlib-metadata>=4.4->markdown>=2.6.8->tensorboard<2.12,>=2.11->tensorflow<2.12,>=2.11.0->tensorflow-text==2.11.0) (3.15.0)\n",
            "Requirement already satisfied: pyasn1<0.5.0,>=0.4.6 in /usr/local/lib/python3.8/dist-packages (from pyasn1-modules>=0.2.1->google-auth<3,>=1.6.3->tensorboard<2.12,>=2.11->tensorflow<2.12,>=2.11.0->tensorflow-text==2.11.0) (0.4.8)\n",
            "Requirement already satisfied: oauthlib>=3.0.0 in /usr/local/lib/python3.8/dist-packages (from requests-oauthlib>=0.7.0->google-auth-oauthlib<0.5,>=0.4.1->tensorboard<2.12,>=2.11->tensorflow<2.12,>=2.11.0->tensorflow-text==2.11.0) (3.2.2)\n",
            "Installing collected packages: tensorflow-text\n",
            "Successfully installed tensorflow-text-2.11.0\n"
          ]
        }
      ],
      "source": [
        "!pip install -U tensorflow-text==2.11.0"
      ]
    },
    {
      "cell_type": "code",
      "execution_count": 5,
      "metadata": {
        "id": "JUuV3MtyBIVk"
      },
      "outputs": [],
      "source": [
        "import numpy as np\n",
        "import pathlib\n",
        "from keras.utils import to_categorical\n",
        "import pickle\n",
        "import tensorflow as tf\n",
        "import tensorflow_text as tf_text\n",
        "from keras.models import Model, Sequential\n",
        "from keras.layers import Input, LSTM, Dense, Embedding, SimpleRNN, RepeatVector, TimeDistributed"
      ]
    },
    {
      "cell_type": "code",
      "execution_count": 6,
      "metadata": {
        "colab": {
          "base_uri": "https://localhost:8080/",
          "height": 35
        },
        "id": "SEMBekqmA2Mn",
        "outputId": "af361804-f280-406d-db83-3b10e950deeb"
      },
      "outputs": [
        {
          "data": {
            "application/vnd.google.colaboratory.intrinsic+json": {
              "type": "string"
            },
            "text/plain": [
              "'2.11.0'"
            ]
          },
          "execution_count": 6,
          "metadata": {},
          "output_type": "execute_result"
        }
      ],
      "source": [
        "tf.__version__"
      ]
    },
    {
      "cell_type": "code",
      "execution_count": 7,
      "metadata": {
        "colab": {
          "base_uri": "https://localhost:8080/"
        },
        "id": "TtxLzvJZ_3mz",
        "outputId": "8c555451-3404-4d44-d2c5-e8f28fd3710c"
      },
      "outputs": [
        {
          "name": "stdout",
          "output_type": "stream",
          "text": [
            "Downloading data from http://storage.googleapis.com/download.tensorflow.org/data/spa-eng.zip\n",
            "2638744/2638744 [==============================] - 1s 0us/step\n"
          ]
        }
      ],
      "source": [
        "import pathlib\n",
        "\n",
        "path_to_zip = tf.keras.utils.get_file(\n",
        "    'spa-eng.zip', origin='http://storage.googleapis.com/download.tensorflow.org/data/spa-eng.zip',\n",
        "    extract=True)\n",
        "\n",
        "path_to_file = pathlib.Path(path_to_zip).parent/'spa-eng/spa.txt'"
      ]
    },
    {
      "cell_type": "code",
      "execution_count": 8,
      "metadata": {
        "id": "uvC24IqtEqND"
      },
      "outputs": [],
      "source": [
        "def load_data(path):\n",
        "  text = path.read_text(encoding='utf-8')\n",
        "\n",
        "  lines = text.splitlines()\n",
        "  pairs = [line.split('\\t') for line in lines]\n",
        "\n",
        "  context = np.array([context for target, context in pairs])\n",
        "  target = np.array([target for target, context in pairs])\n",
        "\n",
        "  return target, context\n",
        "\n",
        "data = load_data(path_to_file)"
      ]
    },
    {
      "cell_type": "code",
      "execution_count": 9,
      "metadata": {
        "id": "71w7mihMFf6Y"
      },
      "outputs": [],
      "source": [
        "inputs = np.array(data[0][:10000])\n",
        "outputs = np.array(data[1][:10000])"
      ]
    },
    {
      "cell_type": "code",
      "execution_count": 10,
      "metadata": {
        "id": "25GDof7ZH_cX"
      },
      "outputs": [],
      "source": [
        "# vectorizer = tf.keras.layers.TextVectorization(standardize=\"lower_and_strip_punctuation\", output_sequence_length=src)\n",
        "# text_dataset = tf.data.Dataset.from_tensor_slices(inputs)\n",
        "# vectorizer.adapt(text_dataset)"
      ]
    },
    {
      "cell_type": "code",
      "execution_count": 11,
      "metadata": {
        "id": "7gXUv2H4u_fC"
      },
      "outputs": [],
      "source": [
        "# # dump(vectorizer,open('drive/MyDrive/Machine Translation/vectroizer.pkl','wb'))\n",
        "# import pickle\n",
        "# pickle.dump({'config': vectorizer.get_config(),\n",
        "#              'weights': vectorizer.get_weights()}\n",
        "#             , open(\"drive/MyDrive/Machine Translation/vectorizer.pkl\", \"wb\"))"
      ]
    },
    {
      "cell_type": "code",
      "execution_count": 12,
      "metadata": {
        "id": "22735waO0qIl"
      },
      "outputs": [],
      "source": [
        "\n",
        "# saved = pickle.load(open('drive/MyDrive/Machine Translation/vectorizer.pkl','rb'))\n",
        "# vectorizer = tf.keras.layers.TextVectorization.from_config(saved['config'])\n",
        "\n",
        "# vectorizer.adapt(tf.data.Dataset.from_tensor_slices(['random']))\n",
        "# vectorizer.set_weights(saved['weights'])"
      ]
    },
    {
      "cell_type": "code",
      "execution_count": 13,
      "metadata": {
        "id": "zQFwEGKz7E0H"
      },
      "outputs": [],
      "source": [
        "# spanish_vectorizer = tf.keras.layers.TextVectorization(standardize=\"lower_and_strip_punctuation\", output_sequence_length=tar)\n",
        "# text_dataset = tf.data.Dataset.from_tensor_slices(outputs)\n",
        "# spanish_vectorizer.adapt(text_dataset)"
      ]
    },
    {
      "cell_type": "code",
      "execution_count": 14,
      "metadata": {
        "id": "qrqQQM-8Fldh"
      },
      "outputs": [],
      "source": [
        "# import pickle\n",
        "# pickle.dump({'config': spanish_vectorizer.get_config(),\n",
        "#              'weights': spanish_vectorizer.get_weights()}\n",
        "#             , open(\"drive/MyDrive/Machine Translation/spanish_vectorizer.pkl\", \"wb\"))"
      ]
    },
    {
      "cell_type": "code",
      "execution_count": 15,
      "metadata": {
        "id": "NG3zJ4o9FphM"
      },
      "outputs": [],
      "source": [
        "# saved = pickle.load(open('drive/MyDrive/Machine Translation/spanish_vectorizer.pkl','rb'))\n",
        "# spanish_vectorizer = tf.keras.layers.TextVectorization.from_config(saved['config'])\n",
        "\n",
        "# spanish_vectorizer.adapt(tf.data.Dataset.from_tensor_slices(['random']))\n",
        "# spanish_vectorizer.set_weights(saved['weights'])"
      ]
    },
    {
      "cell_type": "code",
      "execution_count": 16,
      "metadata": {
        "id": "A07H-KC4tmkp"
      },
      "outputs": [],
      "source": [
        "size = inputs.shape[0]\n",
        "indices = np.random.randint(0, size, size=(int(size*0.8),))"
      ]
    },
    {
      "cell_type": "code",
      "execution_count": 17,
      "metadata": {
        "id": "rkTGUT6RrsXd"
      },
      "outputs": [],
      "source": [
        "# train_X = vectorizer(inputs[indices])\n",
        "# train_Y = spanish_vectorizer(outputs[indices])\n",
        "# # model.fit(train_X, train_Y)"
      ]
    },
    {
      "cell_type": "code",
      "execution_count": 18,
      "metadata": {
        "id": "NpGEw3t61gIf"
      },
      "outputs": [],
      "source": [
        "eng_tokenizer = tf.keras.preprocessing.text.Tokenizer(num_words=5000,lower=True)\n",
        "spa_tokenizer = tf.keras.preprocessing.text.Tokenizer(num_words=5000,lower=True)"
      ]
    },
    {
      "cell_type": "code",
      "execution_count": 19,
      "metadata": {
        "id": "hSY-Xcxc1tKX"
      },
      "outputs": [],
      "source": [
        "eng_tokenizer.fit_on_texts(inputs)\n",
        "spa_tokenizer.fit_on_texts(outputs)"
      ]
    },
    {
      "cell_type": "code",
      "execution_count": 20,
      "metadata": {
        "id": "isM-WspK3EE5"
      },
      "outputs": [],
      "source": [
        "trainX = eng_tokenizer.texts_to_sequences(inputs[indices])\n",
        "trainX = tf.keras.preprocessing.sequence.pad_sequences(trainX, maxlen=8, padding='post')"
      ]
    },
    {
      "cell_type": "code",
      "execution_count": 21,
      "metadata": {
        "id": "T2VZw6qR3LQq"
      },
      "outputs": [],
      "source": [
        "trainY = spa_tokenizer.texts_to_sequences(outputs[indices])\n",
        "trainY = tf.keras.preprocessing.sequence.pad_sequences(trainY, maxlen=8, padding='post')"
      ]
    },
    {
      "cell_type": "code",
      "execution_count": 22,
      "metadata": {
        "id": "yiyX-srWESTI"
      },
      "outputs": [],
      "source": [
        "def encode_output(sequences, vocab_size):\n",
        " ylist = list()\n",
        " for sequence in sequences:\n",
        "  encoded = tf.keras.utils.to_categorical(sequence, num_classes=vocab_size)\n",
        "  ylist.append(encoded)\n",
        " y = np.array(ylist)\n",
        " y = y.reshape(sequences.shape[0], sequences.shape[1], vocab_size)\n",
        " return y\n",
        "\n",
        "# spa_vocab = len(spanish_vectorizer.get_vocabulary())\n",
        "trainY = encode_output(trainY[:9000], len(spa_tokenizer.word_index)+1)"
      ]
    },
    {
      "cell_type": "code",
      "execution_count": 24,
      "metadata": {
        "id": "e31oZY9SlTif"
      },
      "outputs": [],
      "source": [
        "tar_vocab = len(spa_tokenizer.word_index)+1\n",
        "src_vocab = len(eng_tokenizer.word_index)+1\n",
        "src = max(len(line.split()) for line in inputs)\n",
        "tar = max(len(line.split()) for line in outputs)"
      ]
    },
    {
      "cell_type": "code",
      "execution_count": 25,
      "metadata": {
        "id": "jTb_utCwF0Y_"
      },
      "outputs": [],
      "source": [
        "layer1 = Embedding(1000, 16, input_length=8)\n",
        "layer2 = LSTM(256)\n",
        "model = Sequential()\n",
        "model.add(layer1)\n",
        "model.add(layer2)\n",
        "\n",
        "# we want to replicate the context vector for each time step\n",
        "model.add(RepeatVector(8))\n",
        "model.add(LSTM(256, return_sequences=True))\n",
        "\n",
        "# converting decoder output to our desired sequence format\n",
        "model.add(TimeDistributed(Dense(tar_vocab, activation='softmax')))\n",
        "model.compile(optimizer='adam', loss='categorical_crossentropy')"
      ]
    },
    {
      "cell_type": "code",
      "execution_count": 26,
      "metadata": {
        "colab": {
          "base_uri": "https://localhost:8080/"
        },
        "id": "Tf3QbyPwdvkI",
        "outputId": "b3055fea-c91d-4df3-b9ef-6e326fbbda5c"
      },
      "outputs": [
        {
          "name": "stdout",
          "output_type": "stream",
          "text": [
            "Model: \"sequential\"\n",
            "_________________________________________________________________\n",
            " Layer (type)                Output Shape              Param #   \n",
            "=================================================================\n",
            " embedding (Embedding)       (None, 8, 16)             16000     \n",
            "                                                                 \n",
            " lstm (LSTM)                 (None, 256)               279552    \n",
            "                                                                 \n",
            " repeat_vector (RepeatVector  (None, 8, 256)           0         \n",
            " )                                                               \n",
            "                                                                 \n",
            " lstm_1 (LSTM)               (None, 8, 256)            525312    \n",
            "                                                                 \n",
            " time_distributed (TimeDistr  (None, 8, 4961)          1274977   \n",
            " ibuted)                                                         \n",
            "                                                                 \n",
            "=================================================================\n",
            "Total params: 2,095,841\n",
            "Trainable params: 2,095,841\n",
            "Non-trainable params: 0\n",
            "_________________________________________________________________\n"
          ]
        }
      ],
      "source": [
        "model.summary()"
      ]
    },
    {
      "cell_type": "code",
      "execution_count": 33,
      "metadata": {
        "colab": {
          "base_uri": "https://localhost:8080/"
        },
        "id": "p-PS46PVqTh2",
        "outputId": "919fd603-7160-44ec-c48c-f43a100b0711"
      },
      "outputs": [
        {
          "data": {
            "text/plain": [
              "(8000, 8, 4961)"
            ]
          },
          "execution_count": 33,
          "metadata": {},
          "output_type": "execute_result"
        }
      ],
      "source": [
        "trainY.shape"
      ]
    },
    {
      "cell_type": "code",
      "execution_count": 27,
      "metadata": {
        "colab": {
          "base_uri": "https://localhost:8080/"
        },
        "id": "yyIGyKKN5EcZ",
        "outputId": "0991befe-702d-4a28-e991-5001a38a4300"
      },
      "outputs": [
        {
          "name": "stdout",
          "output_type": "stream",
          "text": [
            "Epoch 1/30\n",
            "125/125 [==============================] - 15s 43ms/step - loss: 3.3974\n",
            "Epoch 2/30\n",
            "125/125 [==============================] - 2s 13ms/step - loss: 2.5814\n",
            "Epoch 3/30\n",
            "125/125 [==============================] - 2s 15ms/step - loss: 2.5094\n",
            "Epoch 4/30\n",
            "125/125 [==============================] - 2s 13ms/step - loss: 2.4457\n",
            "Epoch 5/30\n",
            "125/125 [==============================] - 2s 16ms/step - loss: 2.3988\n",
            "Epoch 6/30\n",
            "125/125 [==============================] - 2s 18ms/step - loss: 2.3603\n",
            "Epoch 7/30\n",
            "125/125 [==============================] - 2s 13ms/step - loss: 2.3288\n",
            "Epoch 8/30\n",
            "125/125 [==============================] - 2s 13ms/step - loss: 2.2920\n",
            "Epoch 9/30\n",
            "125/125 [==============================] - 2s 13ms/step - loss: 2.2493\n",
            "Epoch 10/30\n",
            "125/125 [==============================] - 2s 15ms/step - loss: 2.2144\n",
            "Epoch 11/30\n",
            "125/125 [==============================] - 2s 13ms/step - loss: 2.1899\n",
            "Epoch 12/30\n",
            "125/125 [==============================] - 2s 15ms/step - loss: 2.1620\n",
            "Epoch 13/30\n",
            "125/125 [==============================] - 2s 15ms/step - loss: 2.1390\n",
            "Epoch 14/30\n",
            "125/125 [==============================] - 2s 15ms/step - loss: 2.1177\n",
            "Epoch 15/30\n",
            "125/125 [==============================] - 2s 14ms/step - loss: 2.0977\n",
            "Epoch 16/30\n",
            "125/125 [==============================] - 2s 14ms/step - loss: 2.0803\n",
            "Epoch 17/30\n",
            "125/125 [==============================] - 2s 13ms/step - loss: 2.0606\n",
            "Epoch 18/30\n",
            "125/125 [==============================] - 2s 13ms/step - loss: 2.0447\n",
            "Epoch 19/30\n",
            "125/125 [==============================] - 2s 16ms/step - loss: 2.0110\n",
            "Epoch 20/30\n",
            "125/125 [==============================] - 2s 16ms/step - loss: 1.9779\n",
            "Epoch 21/30\n",
            "125/125 [==============================] - 2s 14ms/step - loss: 1.9501\n",
            "Epoch 22/30\n",
            "125/125 [==============================] - 2s 13ms/step - loss: 1.9175\n",
            "Epoch 23/30\n",
            "125/125 [==============================] - 2s 13ms/step - loss: 1.8885\n",
            "Epoch 24/30\n",
            "125/125 [==============================] - 2s 13ms/step - loss: 1.8567\n",
            "Epoch 25/30\n",
            "125/125 [==============================] - 2s 14ms/step - loss: 1.8317\n",
            "Epoch 26/30\n",
            "125/125 [==============================] - 2s 15ms/step - loss: 1.8064\n",
            "Epoch 27/30\n",
            "125/125 [==============================] - 2s 17ms/step - loss: 1.7826\n",
            "Epoch 28/30\n",
            "125/125 [==============================] - 2s 13ms/step - loss: 1.7545\n",
            "Epoch 29/30\n",
            "125/125 [==============================] - 2s 14ms/step - loss: 1.7286\n",
            "Epoch 30/30\n",
            "125/125 [==============================] - 2s 13ms/step - loss: 1.7010\n"
          ]
        },
        {
          "data": {
            "text/plain": [
              "<keras.callbacks.History at 0x7f2db8726b20>"
            ]
          },
          "execution_count": 27,
          "metadata": {},
          "output_type": "execute_result"
        }
      ],
      "source": [
        "model.fit(trainX[:9000], trainY, epochs=30, batch_size=64)"
      ]
    },
    {
      "cell_type": "code",
      "execution_count": 31,
      "metadata": {
        "colab": {
          "base_uri": "https://localhost:8080/"
        },
        "id": "1Aq8jC7zC-2z",
        "outputId": "0aee2828-43be-4fde-da1c-3479d05b7367"
      },
      "outputs": [
        {
          "name": "stdout",
          "output_type": "stream",
          "text": [
            "1/1 [==============================] - 0s 24ms/step\n"
          ]
        }
      ],
      "source": [
        "prediction = model.predict(trainX[15:16])"
      ]
    },
    {
      "cell_type": "code",
      "execution_count": 32,
      "metadata": {
        "colab": {
          "base_uri": "https://localhost:8080/"
        },
        "id": "z9s6jO9v4Nkr",
        "outputId": "30b12633-edba-40dc-cf44-a8cd31359b6e"
      },
      "outputs": [
        {
          "data": {
            "text/plain": [
              "[14, 112, 0, 0, 0, 0, 0, 0]"
            ]
          },
          "execution_count": 32,
          "metadata": {},
          "output_type": "execute_result"
        }
      ],
      "source": [
        "import numpy as np\n",
        "[np.argmax(vector) for vector in prediction[0]]"
      ]
    },
    {
      "cell_type": "code",
      "execution_count": null,
      "metadata": {
        "id": "jQVzihcHevg1"
      },
      "outputs": [],
      "source": []
    }
  ],
  "metadata": {
    "accelerator": "GPU",
    "colab": {
      "provenance": []
    },
    "gpuClass": "standard",
    "kernelspec": {
      "display_name": "Python 3",
      "language": "python",
      "name": "python3"
    },
    "language_info": {
      "name": "python",
      "version": "3.10.8"
    },
    "vscode": {
      "interpreter": {
        "hash": "b0fa6594d8f4cbf19f97940f81e996739fb7646882a419484c72d19e05852a7e"
      }
    }
  },
  "nbformat": 4,
  "nbformat_minor": 0
}
